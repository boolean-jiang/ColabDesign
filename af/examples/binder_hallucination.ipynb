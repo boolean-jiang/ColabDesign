{
  "cells": [
    {
      "cell_type": "markdown",
      "metadata": {
        "id": "view-in-github",
        "colab_type": "text"
      },
      "source": [
        "<a href=\"https://colab.research.google.com/github/sokrypton/ColabDesign/blob/main/af/examples/binder_hallucination.ipynb\" target=\"_parent\"><img src=\"https://colab.research.google.com/assets/colab-badge.svg\" alt=\"Open In Colab\"/></a>"
      ]
    },
    {
      "cell_type": "markdown",
      "metadata": {
        "id": "OA2k3sAYuiXe"
      },
      "source": [
        "# AfDesign - binder hallucination\n",
        "For a given protein target and protein binder length, generate/hallucinate a protein binder sequence AlphaFold thinks will bind to the target structure. To do this, we maximize number of contacts at the interface and maximize pLDDT of the binder.\n",
        "\n",
        "**WARNING**\n",
        "1.   This notebook is in active development and was designed for demonstration purposes only.\n",
        "2.   Using AfDesign as the only \"loss\" function for design might be a bad idea, you may find adversarial sequences (aka. sequences that trick AlphaFold)."
      ]
    },
    {
      "cell_type": "code",
      "execution_count": null,
      "metadata": {
        "cellView": "form",
        "id": "-AXy0s_4cKaK"
      },
      "outputs": [],
      "source": [
        "#@title install\n",
        "%%bash\n",
        "if [ ! -d params ]; then\n",
        "  pip -q install git+https://github.com/sokrypton/ColabDesign.git\n",
        "  ln -s /usr/local/lib/python3.7/dist-packages/colabdesign colabdesign\n",
        "  mkdir params\n",
        "  curl -fsSL https://storage.googleapis.com/alphafold/alphafold_params_2022-03-02.tar | tar x -C params\n",
        "fi"
      ]
    },
    {
      "cell_type": "code",
      "execution_count": null,
      "metadata": {
        "cellView": "form",
        "id": "Vt7G_nbNeSQ3"
      },
      "outputs": [],
      "source": [
        "#@title import libraries\n",
        "import warnings\n",
        "warnings.simplefilter(action='ignore', category=FutureWarning)\n",
        "\n",
        "import os\n",
        "from colabdesign import mk_afdesign_model, clear_mem\n",
        "from colabdesign.shared.utils import copy_dict\n",
        "from IPython.display import HTML\n",
        "from google.colab import files\n",
        "import numpy as np\n",
        "\n",
        "#########################\n",
        "def get_pdb(pdb_code=\"\"):\n",
        "  if pdb_code is None or pdb_code == \"\":\n",
        "    upload_dict = files.upload()\n",
        "    pdb_string = upload_dict[list(upload_dict.keys())[0]]\n",
        "    with open(\"tmp.pdb\",\"wb\") as out: out.write(pdb_string)\n",
        "    return \"tmp.pdb\"\n",
        "  else:\n",
        "    os.system(f\"wget -qnc https://files.rcsb.org/view/{pdb_code}.pdb\")\n",
        "    return f\"{pdb_code}.pdb\""
      ]
    },
    {
      "cell_type": "code",
      "source": [
        "#@title prep inputs\n",
        "import re\n",
        "pdb = \"4N5T\" #@param {type:\"string\"}\n",
        "chain = \"A\" #@param {type:\"string\"}\n",
        "binder_len =  15#@param {type:\"integer\"}\n",
        "binder_seq = \"\" #@param {type:\"string\"}\n",
        "binder_seq = re.sub(\"[^A-Z]\", \"\", binder_seq.upper())\n",
        "\n",
        "if len(binder_seq) > 0:\n",
        "  binder_len = len(binder_seq)\n",
        "hotspot = \"\" #@param {type:\"string\"}\n",
        "#@markdown ---\n",
        "#@markdown model config\n",
        "use_multimer = False #@param {type:\"boolean\"}\n",
        "if use_multimer:\n",
        "  num_recycles = 1\n",
        "  iters = 100\n",
        "else:\n",
        "  num_recycles = 0\n",
        "  iters = 100\n",
        "\n",
        "if hotspot == \"\":\n",
        "  hotspot = None\n",
        "\n",
        "x = {\"pdb_filename\":pdb,\n",
        "     \"chain\":chain,\n",
        "     \"binder_len\":binder_len,\n",
        "     \"hotspot\":hotspot,\n",
        "     \"use_multimer\":use_multimer}\n",
        "x[\"pdb_filename\"] = get_pdb(x[\"pdb_filename\"])     \n",
        "\n",
        "if \"x_prev\" not in dir() or x != x_prev:\n",
        "  clear_mem()\n",
        "  model = mk_afdesign_model(protocol=\"binder\",\n",
        "                            use_multimer=x[\"use_multimer\"])\n",
        "  model.prep_inputs(**x)\n",
        "  x_prev = copy_dict(x)\n",
        "  print(\"target length:\", model._target_len)\n",
        "  print(\"binder length:\", model._binder_len)"
      ],
      "metadata": {
        "id": "HSgE99WALOE-",
        "cellView": "form"
      },
      "execution_count": null,
      "outputs": []
    },
    {
      "cell_type": "code",
      "source": [
        "#@title **run AfDesign**\n",
        "optimizer = \"3stage\" #@param [\"3stage\", \"semigreedy\"]\n",
        "weights = {\"con\":0.0,\n",
        "           \"pae\":0.0,\n",
        "           \"plddt\":0.1,\n",
        "           \"i_pae\":0.0,\n",
        "           \"i_con\":1.0}\n",
        "opt = {\n",
        "    \"con\":{\"seqsep\":9, \"cutoff\":14.0, \"num\":1, \"binary\":False},\n",
        "    \"i_con\":{\"cutoff\":21.6875, \"num\":1, \"num_pos\":float(\"inf\"), \"binary\":False}\n",
        "}\n",
        "\n",
        "model.restart(opt=opt, weights=weights)\n",
        "if len(binder_seq) > 1: model.set_seq(seq=binder_seq)\n",
        "if optimizer == \"3stage\":\n",
        "  model.design_3stage(iters, 100, 10, num_recycles=num_recycles, verbose=True)\n",
        "else:\n",
        "  model.design_semigreedy(25, num_models=1, num_recycles=num_recycles, verbose=True)"
      ],
      "metadata": {
        "id": "J7ZvaMUEr8eH",
        "cellView": "form"
      },
      "execution_count": null,
      "outputs": []
    },
    {
      "cell_type": "code",
      "execution_count": null,
      "metadata": {
        "id": "A1GxeLZdTTya"
      },
      "outputs": [],
      "source": [
        "model.save_pdb(f\"{model.protocol}.pdb\")\n",
        "model.plot_pdb(animate=True)"
      ]
    },
    {
      "cell_type": "code",
      "execution_count": null,
      "metadata": {
        "id": "L2E9Tn2Acchj"
      },
      "outputs": [],
      "source": [
        "HTML(model.animate())"
      ]
    },
    {
      "cell_type": "code",
      "execution_count": null,
      "metadata": {
        "id": "YSKWYu0_GlUH"
      },
      "outputs": [],
      "source": [
        "model.get_seqs()"
      ]
    },
    {
      "cell_type": "code",
      "source": [],
      "metadata": {
        "id": "TEt1I_xUr0Hx"
      },
      "execution_count": null,
      "outputs": []
    }
  ],
  "metadata": {
    "accelerator": "GPU",
    "colab": {
      "collapsed_sections": [
        "q4qiU9I0QHSz"
      ],
      "provenance": [],
      "include_colab_link": true
    },
    "kernelspec": {
      "display_name": "Python 3",
      "name": "python3"
    },
    "language_info": {
      "name": "python"
    }
  },
  "nbformat": 4,
  "nbformat_minor": 0
}